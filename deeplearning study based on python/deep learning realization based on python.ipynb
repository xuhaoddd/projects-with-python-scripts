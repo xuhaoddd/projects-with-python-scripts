{
 "cells": [
  {
   "cell_type": "code",
   "execution_count": 1,
   "metadata": {
    "scrolled": true
   },
   "outputs": [],
   "source": [
    "import numpy as np\n",
    "import matplotlib.pylab as plt"
   ]
  },
  {
   "cell_type": "code",
   "execution_count": 2,
   "metadata": {
    "scrolled": true
   },
   "outputs": [
    {
     "name": "stdout",
     "output_type": "stream",
     "text": [
      "1\n"
     ]
    }
   ],
   "source": [
    "def perceptron(x1,x2,w1,w2,b):\n",
    "    x=np.array([x1,x2])\n",
    "    w=np.array([w1,w2])\n",
    "    tem = np.sum ( x * w ) + b\n",
    "    if tem <= 0:\n",
    "        return 0\n",
    "    else:\n",
    "        return 1\n",
    "    \n",
    "ret = perceptron (0, 1, 0.5, 0.5, -0.2 )\n",
    "print(ret)"
   ]
  },
  {
   "cell_type": "markdown",
   "metadata": {},
   "source": [
    "## Chapter02.##\n",
    "Realized a single-layered perceptron,which is the basis of neural network  \n"
   ]
  },
  {
   "cell_type": "code",
   "execution_count": 5,
   "metadata": {
    "scrolled": true
   },
   "outputs": [
    {
     "name": "stdout",
     "output_type": "stream",
     "text": [
      "0\n"
     ]
    }
   ],
   "source": [
    "def AND(x1,x2):\n",
    "    y=perceptron(x1,x2,0.5,0.5,-0.7)\n",
    "    return y\n",
    "def NAND(x1,x2):\n",
    "    y=perceptron(x1,x2,-0.5,-0.5,0.7)\n",
    "    return y\n",
    "def OR(x1,x2):\n",
    "    y=perceptron(x1,x2,0.5,0.5,-0.2)\n",
    "    return y\n",
    "\n",
    "def XOR(x1,x2):\n",
    "    s1=NAND(x1,x2)\n",
    "    s2=OR(x1,x2)\n",
    "    y=AND(s1,s2)\n",
    "    return y\n",
    "\n",
    "ret = XOR(0,0)\n",
    "print(ret)"
   ]
  },
  {
   "cell_type": "markdown",
   "metadata": {},
   "source": [
    "A single-layered perceptron can represent AND,NAND,OR gate(linear space)  \n",
    "Realized a multi-layered perceptron, which can represent XOR gate(unlinear space)"
   ]
  },
  {
   "cell_type": "code",
   "execution_count": 10,
   "metadata": {
    "scrolled": true
   },
   "outputs": [
    {
     "data": {
      "image/png": "[encoded data removed]",
      "text/plain": [
       "<Figure size 432x288 with 1 Axes>"
      ]
     },
     "metadata": {
      "needs_background": "light"
     },
     "output_type": "display_data"
    }
   ],
   "source": [
    "def step_function(x):\n",
    "    return np.array(x>0,dtype=np.int)\n",
    "\n",
    "x=np.arange(-5,5,0.1)\n",
    "y=step_function(x)\n",
    "plt.plot(x,y)\n",
    "plt.ylim(-0.1, 2)\n",
    "plt.title(\"step function\")\n",
    "plt.show()"
   ]
  },
  {
   "cell_type": "code",
   "execution_count": 2,
   "metadata": {
    "scrolled": true
   },
   "outputs": [
    {
     "data": {
      "image/png": "[encoded data removed]",
      "text/plain": [
       "<Figure size 432x288 with 1 Axes>"
      ]
     },
     "metadata": {
      "needs_background": "light"
     },
     "output_type": "display_data"
    }
   ],
   "source": [
    "def sigmoid_function(x):\n",
    "    return 1 / (1 + np.exp(-x))\n",
    "\n",
    "x=np.arange(-5,5,0.1)\n",
    "y=sigmoid_function(x)\n",
    "plt.plot(x,y)\n",
    "plt.ylim(-0.1, 2)\n",
    "plt.title(\"sigmoid function\")\n",
    "plt.show()"
   ]
  },
  {
   "cell_type": "code",
   "execution_count": 4,
   "metadata": {
    "scrolled": true
   },
   "outputs": [
    {
     "data": {
      "image/png": "[encoded data removed]",
      "text/plain": [
       "<Figure size 432x288 with 1 Axes>"
      ]
     },
     "metadata": {
      "needs_background": "light"
     },
     "output_type": "display_data"
    }
   ],
   "source": [
    "def ReLU_function(x):\n",
    "    return np.maximum(0,x)\n",
    "\n",
    "x=np.arange(-5,5,0.1)\n",
    "y=ReLU_function(x)\n",
    "plt.plot(x,y)\n",
    "plt.ylim(-0.1, 5)\n",
    "plt.title(\"ReLU function\")\n",
    "plt.show()"
   ]
  },
  {
   "cell_type": "markdown",
   "metadata": {},
   "source": [
    "## Chapter03\n",
    "Plot the __step__ function,__sigmoid__ function and __ReLU__ function（Activate function）"
   ]
  },
  {
   "cell_type": "code",
   "execution_count": 8,
   "metadata": {},
   "outputs": [
    {
     "name": "stdout",
     "output_type": "stream",
     "text": [
      "{'W1': array([[0.1, 0.3, 0.5],\n",
      "       [0.2, 0.4, 0.6]]), 'b1': array([0.1, 0.2, 0.3]), 'W2': array([[0.1, 0.4],\n",
      "       [0.2, 0.5],\n",
      "       [0.3, 0.6]]), 'b2': array([0.1, 0.2]), 'W3': array([[0.1, 0.3],\n",
      "       [0.2, 0.4]]), 'b3': array([0.1, 0.2])}\n",
      "[0.31682708 0.69627909]\n"
     ]
    }
   ],
   "source": [
    "def identity_function(x):\n",
    "    return x\n",
    "\n",
    "def forward(network, x):\n",
    "    W1,W2,W3=network['W1'],network['W2'],network['W3']\n",
    "    b1,b2,b3=network['b1'],network['b2'],network['b3']\n",
    "    \n",
    "    a1=np.dot(x,W1)+b1\n",
    "    z1=sigmoid_function(a1)\n",
    "    a2=np.dot(z1,W2)+b2\n",
    "    z2=sigmoid_function(a2)\n",
    "    a3=np.dot(z2,W3)+b3\n",
    "    y=identity_function(a3)\n",
    "    return y\n",
    "    \n",
    "def init_network():\n",
    "    network={}\n",
    "    network['W1'] = np.array([[0.1, 0.3, 0.5], [0.2, 0.4, 0.6]])\n",
    "    network['b1'] = np.array([0.1, 0.2, 0.3])\n",
    "    network['W2'] = np.array([[0.1, 0.4], [0.2, 0.5], [0.3, 0.6]])\n",
    "    network['b2'] = np.array([0.1, 0.2])\n",
    "    network['W3'] = np.array([[0.1, 0.3], [0.2, 0.4]])\n",
    "    network['b3'] = np.array([0.1, 0.2])\n",
    "    \n",
    "    return network\n",
    "    \n",
    "network=init_network()\n",
    "x = np.array([1.0, 0.5])\n",
    "y = forward(network, x)\n",
    "print(network)\n",
    "print(y)"
   ]
  },
  {
   "cell_type": "markdown",
   "metadata": {},
   "source": [
    "## Realize a three-layer neural network"
   ]
  },
  {
   "cell_type": "code",
   "execution_count": null,
   "metadata": {},
   "outputs": [],
   "source": []
  }
 ],
 "metadata": {
  "kernelspec": {
   "display_name": "Python 3",
   "language": "python",
   "name": "python3"
  },
  "language_info": {
   "codemirror_mode": {
    "name": "ipython",
    "version": 3
   },
   "file_extension": ".py",
   "mimetype": "text/x-python",
   "name": "python",
   "nbconvert_exporter": "python",
   "pygments_lexer": "ipython3",
   "version": "3.6.10"
  }
 },
 "nbformat": 4,
 "nbformat_minor": 2
}
